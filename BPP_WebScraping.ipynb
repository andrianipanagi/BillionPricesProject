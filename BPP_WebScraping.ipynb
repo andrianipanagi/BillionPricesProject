{
 "cells": [
  {
   "cell_type": "code",
   "execution_count": 12,
   "metadata": {},
   "outputs": [],
   "source": [
    "#import the necessary packages\n",
    "import xlsxwriter\n",
    "import requests\n",
    "import pandas as pd\n",
    "import numpy as np\n",
    "import re\n",
    "\n",
    "from datetime import datetime\n",
    "from urllib.request import urlopen\n",
    "from bs4 import BeautifulSoup"
   ]
  },
  {
   "cell_type": "code",
   "execution_count": 34,
   "metadata": {},
   "outputs": [],
   "source": [
    "#put all the urls in a list\n",
    "urls=[\"https://www.supermarketcy.com.cy/psomi\",\"https://www.supermarketcy.com.cy/pites\",\"https://www.supermarketcy.com.cy/tost\"\n",
    "     ,\"https://www.supermarketcy.com.cy/psomakia\",\"https://www.supermarketcy.com.cy/almyra\",\"https://www.supermarketcy.com.cy/keik\"\n",
    "     ,\"https://www.supermarketcy.com.cy/glyka-1\"]\n",
    "\n",
    "#create lists for the products and the prices repsectively\n",
    "products =[]\n",
    "prices = []\n",
    "\n",
    "\n",
    "#final list for the products and the prices\n",
    "products_final =[]\n",
    "prices_final =[]\n",
    "\n",
    "#for the different urls, putting the prices and the description of the \n",
    "# products in the two lists\n",
    "for url in urls:\n",
    "    page = urlopen(url)\n",
    "    html = page.read().decode(\"utf-8\")\n",
    "    bs = BeautifulSoup(html, \"html.parser\")\n",
    "    \n",
    "    scripts = bs.find_all('script',string=True)\n",
    "\n",
    "    #get the strings for the names and the prices of the products using regular expressions\n",
    "    for script in scripts:\n",
    "        product= re.findall(r\"'name':.*\",str(script))\n",
    "        price= re.findall(r\"'price':.*\",str(script))\n",
    "        if len(product)> 0:\n",
    "            products.append(product)\n",
    "            prices.append(price)\n",
    "            \n",
    "#get the description of the items, by removing the ':',',' and the additional quotation marks\n",
    "for j in range(len(products)):\n",
    "    for i in range(len(products[j])):\n",
    "        products_final.append(products[j][i].split(':')[1].replace(\",\", \"\").replace(\" \",\"\").strip('\\''))\n",
    "        \n",
    "#get the price of the items, by removing the ':',',' and the additional quotation marks\n",
    "for j in range(len(prices)):\n",
    "    for i in range(len(prices[j])):\n",
    "        prices_final.append(prices[j][i].split(':')[1].replace(\",\", \"\").replace(\" \",\"\").strip('\\''))\n",
    "        \n"
   ]
  },
  {
   "cell_type": "code",
   "execution_count": 35,
   "metadata": {},
   "outputs": [
    {
     "name": "stdout",
     "output_type": "stream",
     "text": [
      "['ΣίφουναςΚουλούριΜεΠροζύμι1Τεμ', 'ΣίφουναςΟλικήςΨωμίΚομμένο780g', 'ΣίφουναςΜαύροΜικρόΨωμίΚομμένο500g', 'ΣίφουναςΆσπροΨωμίΚομμένο540g', 'ΣίφουναςΚριθαρένιοΨωμίΚομμένο830g', 'ΣίφουναςΚοινόΨωμίΚομμένο560g', 'ΣίφουναςΠολύσποροΨωμί500g', 'ΣίφουναςΆσπροΨωμίΚομμένο970g', 'ΣίφουναςΆσπροΨωμίΜεΣισάμιΚομμένο540g', 'ΣίφουναςΚοινόΨωμίΚομμένο970g', 'ΣίφουναςΚουλούριΜαργαρίτα1Τεμ', 'ScharΛευκόΨωμίΣεΦέτεςΧωρίςΓλουτένη250g', 'ΣίφουναςΠίττεςΠαφίτικεςΜικρές5Τεμ400g', 'ΣίφουναςΠίττεςΜαύρεςΜικρές5Τεμ400g', 'ΣίφουναςΠίττεςΠαφίτικεςΜεγάλες5Τεμ800g', 'ΣίφουναςΠίττεςΆσπρεςΜεγάλες5Τεμ550g', 'ΣίφουναςΠίττεςΛιβανέζικες5Τεμ800g', 'ΣίφουναςΨωμίΦέτεςΤόστΆσπροΜεγάλο925g', 'ΣίφουναςΨωμίΦέτεςΤόστΆσπροΜικρό700g', 'ΣίφουναςΨωμίΦέτεςΤόστΠολύσποροΜικρό1Τεμ', 'ΣίφουναςΨωμίΦέτεςΤόστΜαύροΠιτυρούχοΜεγάλο700g', 'ΣίφουναςΨωμίΦέτεςΤόστΆσπρο6Φέτες215g', 'ΣίφουναςΨωμίΦέτεςΤόστΜαύρο6Φέτες215g', 'ΣίφουναςMultiFitΨωμίΦέτεςΤόστ450g', 'ΣίφουναςΦραντζολάκιαΣτρογγυλά4Τεμ', 'ΣίφουναςΚουλούριαΜικράΕλληνικά2Τεμ', 'ΣίφουναςΦραντζολάκιαΜακρόστεναΜεγάλα4Τεμ', 'ΣίφουναςΦραντζολάκιαΜακρόστεναΜικρά6Τεμ', 'ΣίφουναςΜπαγκέταΜεγάλη1Τεμ', 'ΣίφουναςΦραντζολάκιαΠολύσποραΣτρογγυλά4Τεμ', 'ΣίφουναςΦραντζολάκιαΤσιαπάτα4Τεμ', 'ΣίφουναςΦραντζολάκιαΜακρόστεναΟλικήςΆλεσης4Τεμ', 'ΣίφουναςΦραντζολάκιαΤριάρες4Τεμ', 'ΣίφουναςΦραντζολάκιαΜακρόστεναΠολύσπορα4Τεμ', 'ΣίφουναςΚρουασάνΒουτύρου1Τεμ', 'ΣίφουναςΠίταΣάτζιηςΜεΜέλι1Τεμ', 'ΣίφουναςΛουκανικόπιτα1Τεμ', 'ΣίφουναςΕλιόπιταΣφολιάτα1Τεμ', 'ΣίφουναςΕλιωτήΧωριάτικηΜεγάλη1Τεμ', 'ΣίφουναςΛουκανικοπιτάκια200g', 'ΣίφουναςΦλαούνεςΜικρές250g', 'ΣίφουναςΕλιόπιτεςΜικρέςΧυμού200g', 'ΣίφουναςΚρουασανάκιαΑμυγδάλου200g', 'ΣίφουναςΚούπαΜεγάληΜεΧοιρινόΚιμά1Τεμ', 'ΣίφουναςΤυρόπιτα1Τεμ', 'ΣίφουναςΤηγανιτάΠουρέκιαΑναρής6Τεμ250g', 'ΣίφουναςΚέικΠορτοκάλι750g', 'ΣίφουναςΚέικΓεωγραφίαςΑτομικό100g', 'ΣίφουναςΚέικΓεωγραφίας750g', 'ΣίφουναςΚέικΣοκολάτας800g', 'ΣίφουναςΠαστίτσι60g1Τεμ', 'ΣίφουναςΕργολάβος60g1Τεμ', 'ΣίφουναςΜπράουνιςΜεΤυρί60g1Τεμ', 'ΣίφουναςΑμυγδαλωτό60g1Τεμ', 'ΣίφουναςΜηλόπιτα650g', 'ΣίφουναςΜηλόπιτα125g1Τεμ', 'ΣίφουναςΚόκο65g1Τεμ', 'ΣίφουναςΜηλόπιταΑτομική1Τεμ', 'ΣίφουναςΚαρυδάτα80g1Τεμ', 'ΣίφουναςMixΣιροπιαστά410g', 'ΣίφουναςΜηλοπιττάκια4Τεμ', 'ΣίφουναςΤρίγωνοΜεΑμύγδαλο480g']\n",
      "['2.300000', '2.400000', '1.850000', '1.750000', '2.800000', '1.550000', '2.800000', '2.300000', '1.900000', '2.000000', '2.300000', '2.130000', '1.850000', '1.800000', '2.300000', '1.850000', '2.300000', '2.450000', '2.200000', '2.800000', '2.400000', '1.200000', '1.250000', '3.500000', '1.600000', '1.000000', '1.600000', '1.800000', '1.600000', '1.650000', '1.600000', '1.600000', '1.680000', '2.000000', '1.950000', '1.500000', '2.150000', '2.100000', '3.400000', '2.550000', '3.190000', '2.550000', '2.550000', '1.700000', '2.150000', '3.050000', '9.900000', '1.300000', '9.900000', '9.900000', '1.100000', '1.200000', '1.200000', '1.100000', '11.200000', '1.350000', '1.200000', '4.700000', '1.350000', '5.950000', '2.800000', '5.950000']\n",
      "The length of the products list is  62\n",
      "The length of the price list is  62\n"
     ]
    }
   ],
   "source": [
    "print(products_final)\n",
    "print(prices_final)\n",
    "print(\"The length of the products list is \",len(products_final))\n",
    "print(\"The length of the price list is \",len(prices_final))"
   ]
  },
  {
   "cell_type": "code",
   "execution_count": 39,
   "metadata": {},
   "outputs": [],
   "source": [
    "#products already stored in the excel file\n",
    "products_excel=['ΣίφουναςΟλικήςΨωμίΚομμένο780g','ΣίφουναςΜαύροΜικρόΨωμίΚομμένο500g','ΣίφουναςΚοινόΨωμίΚομμένο560g','ΣίφουναςΚοινόΨωμίΚομμένο970g'\n",
    ",'ΣίφουναςΠίττεςΆσπρεςΜεγάλες5Τεμ550g','ΣίφουναςΨωμίΦέτεςΤόστΆσπροΜικρό700g'\n",
    ",'ΣίφουναςΦραντζολάκιαΣτρογγυλά4Τεμ','ΣίφουναςΦραντζολάκιαΜακρόστεναΜεγάλα4Τεμ','ΣίφουναςΚρουασάνΒουτύρου1Τεμ','ΣίφουναςΛουκανικόπιτα1Τεμ'\n",
    ",'ΣίφουναςΠίταΣάτζιηςΜεΜέλι1Τεμ','ΣίφουναςΕλιόπιταΣφολιάτα1Τεμ','ΣίφουναςΚέικΓεωγραφίας750g','ΣίφουναςMixΣιροπιαστά410g']\n",
    "\n",
    "prices_excel =[]\n",
    "\n",
    "#to see which items in aobve lists match with the list products_excel\n",
    "for item in products_excel:\n",
    "    for product in products_final:\n",
    "        index = products_final.index(product)\n",
    "        if item==product:\n",
    "            prices_excel.append(prices_final[index])\n",
    "\n",
    "#round the prices to only two decimal points\n",
    "prices_excel = [ round(float(i),2) for i in prices_excel]"
   ]
  },
  {
   "cell_type": "code",
   "execution_count": 41,
   "metadata": {},
   "outputs": [
    {
     "name": "stdout",
     "output_type": "stream",
     "text": [
      "14\n",
      "14\n"
     ]
    }
   ],
   "source": [
    "print(len(prices_excel))\n",
    "print(len(products_excel))\n",
    "#the list does not contain two kind of breads since they are the same the only difference is that the\n",
    "#breads are sliced"
   ]
  },
  {
   "cell_type": "code",
   "execution_count": 48,
   "metadata": {},
   "outputs": [],
   "source": [
    "#create a dataframe \n",
    "df=pd.DataFrame()\n",
    "date = [datetime.now()]*len(prices_excel)\n",
    "\n",
    "#store in an excel file\n",
    "df = pd.DataFrame({'Products':products_excel,'Price':prices_excel,'Date':date}) \n",
    "df.to_excel('prices_products.xlsx', index = False)"
   ]
  },
  {
   "cell_type": "code",
   "execution_count": null,
   "metadata": {},
   "outputs": [],
   "source": []
  }
 ],
 "metadata": {
  "kernelspec": {
   "display_name": "Python 3 (ipykernel)",
   "language": "python",
   "name": "python3"
  },
  "language_info": {
   "codemirror_mode": {
    "name": "ipython",
    "version": 3
   },
   "file_extension": ".py",
   "mimetype": "text/x-python",
   "name": "python",
   "nbconvert_exporter": "python",
   "pygments_lexer": "ipython3",
   "version": "3.11.0"
  }
 },
 "nbformat": 4,
 "nbformat_minor": 2
}
